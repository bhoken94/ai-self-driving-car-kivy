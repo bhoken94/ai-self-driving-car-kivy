{
  "nbformat": 4,
  "nbformat_minor": 0,
  "metadata": {
    "colab": {
      "name": "Part 2 - Deep Convolutional Q-Learning",
      "provenance": [],
      "collapsed_sections": [],
      "toc_visible": true
    },
    "kernelspec": {
      "name": "python3",
      "display_name": "Python 3"
    }
  },
  "cells": [
    {
      "cell_type": "markdown",
      "metadata": {
        "id": "zaC5dBzI1pFK"
      },
      "source": [
        "# Part 2 - Deep Convolutional Q-Learning"
      ]
    },
    {
      "cell_type": "markdown",
      "metadata": {
        "id": "KQVnB6cvvZ4A"
      },
      "source": [
        "### Installing system dependencies for VizDoom"
      ]
    },
    {
      "cell_type": "code",
      "metadata": {
        "id": "AkVnx4F0s3dD",
        "colab": {
          "base_uri": "https://localhost:8080/"
        },
        "outputId": "feca39cc-ba50-4c89-cb88-ccecd3aa2b00"
      },
      "source": [
        "!sudo apt-get update\n",
        "!sudo apt-get install build-essential zlib1g-dev libsdl2-dev libjpeg-dev nasm tar libbz2-dev libgtk2.0-dev cmake git libfluidsynth-dev libgme-dev libopenal-dev timidity libwildmidi-dev unzip\n",
        "!sudo apt-get install libboost-all-dev\n",
        "!apt-get install liblua5.1-dev\n",
        "!sudo apt-get install cmake libboost-all-dev libgtk2.0-dev libsdl2-dev python-numpy git\n",
        "!git clone https://github.com/shakenes/vizdoomgym.git\n",
        "!python3 -m pip install -e vizdoomgym/\n",
        "!pip install pillow\n",
        "!pip install scipy==1.1.0"
      ],
      "execution_count": null,
      "outputs": [
        {
          "output_type": "stream",
          "name": "stdout",
          "text": [
            "\r0% [Working]\r            \rGet:1 https://cloud.r-project.org/bin/linux/ubuntu bionic-cran40/ InRelease [3,626 B]\n",
            "\r0% [Waiting for headers] [Connecting to security.ubuntu.com (91.189.88.152)] [1\r0% [Waiting for headers] [Connecting to security.ubuntu.com (91.189.88.152)] [C\r0% [1 InRelease gpgv 3,626 B] [Waiting for headers] [Waiting for headers] [Conn\r                                                                               \rIgn:2 https://developer.download.nvidia.com/compute/cuda/repos/ubuntu1804/x86_64  InRelease\n",
            "\r0% [1 InRelease gpgv 3,626 B] [Waiting for headers] [Waiting for headers] [Conn\r                                                                               \rHit:3 http://archive.ubuntu.com/ubuntu bionic InRelease\n",
            "Ign:4 https://developer.download.nvidia.com/compute/machine-learning/repos/ubuntu1804/x86_64  InRelease\n",
            "Get:5 https://developer.download.nvidia.com/compute/cuda/repos/ubuntu1804/x86_64  Release [696 B]\n",
            "Get:6 http://security.ubuntu.com/ubuntu bionic-security InRelease [88.7 kB]\n",
            "Hit:7 https://developer.download.nvidia.com/compute/machine-learning/repos/ubuntu1804/x86_64  Release\n",
            "Get:8 https://developer.download.nvidia.com/compute/cuda/repos/ubuntu1804/x86_64  Release.gpg [836 B]\n",
            "Get:9 http://ppa.launchpad.net/c2d4u.team/c2d4u4.0+/ubuntu bionic InRelease [15.9 kB]\n",
            "Get:10 http://archive.ubuntu.com/ubuntu bionic-updates InRelease [88.7 kB]\n",
            "Hit:11 http://ppa.launchpad.net/cran/libgit2/ubuntu bionic InRelease\n",
            "Get:13 http://archive.ubuntu.com/ubuntu bionic-backports InRelease [74.6 kB]\n",
            "Get:14 https://developer.download.nvidia.com/compute/cuda/repos/ubuntu1804/x86_64  Packages [828 kB]\n",
            "Hit:15 http://ppa.launchpad.net/deadsnakes/ppa/ubuntu bionic InRelease\n",
            "Hit:16 http://ppa.launchpad.net/graphics-drivers/ppa/ubuntu bionic InRelease\n",
            "Get:17 http://security.ubuntu.com/ubuntu bionic-security/universe amd64 Packages [1,442 kB]\n",
            "Get:18 http://archive.ubuntu.com/ubuntu bionic-updates/main amd64 Packages [2,867 kB]\n",
            "Get:19 http://ppa.launchpad.net/c2d4u.team/c2d4u4.0+/ubuntu bionic/main Sources [1,813 kB]\n",
            "Get:20 http://security.ubuntu.com/ubuntu bionic-security/main amd64 Packages [2,430 kB]\n",
            "Get:21 http://archive.ubuntu.com/ubuntu bionic-updates/universe amd64 Packages [2,223 kB]\n",
            "Get:22 http://ppa.launchpad.net/c2d4u.team/c2d4u4.0+/ubuntu bionic/main amd64 Packages [930 kB]\n",
            "Fetched 12.8 MB in 3s (5,006 kB/s)\n",
            "Reading package lists... Done\n",
            "Reading package lists... Done\n",
            "Building dependency tree       \n",
            "Reading state information... Done\n",
            "build-essential is already the newest version (12.4ubuntu1).\n",
            "libjpeg-dev is already the newest version (8c-2ubuntu8).\n",
            "libjpeg-dev set to manually installed.\n",
            "zlib1g-dev is already the newest version (1:1.2.11.dfsg-0ubuntu2).\n",
            "zlib1g-dev set to manually installed.\n",
            "cmake is already the newest version (3.10.2-1ubuntu2.18.04.2).\n",
            "git is already the newest version (1:2.17.1-1ubuntu0.9).\n",
            "libbz2-dev is already the newest version (1.0.6-8.1ubuntu0.2).\n",
            "libbz2-dev set to manually installed.\n",
            "unzip is already the newest version (6.0-21ubuntu1.1).\n",
            "The following additional packages will be installed:\n",
            "  autoconf automake autopoint autotools-dev debhelper dh-autoreconf\n",
            "  dh-strip-nondeterminism file freepats gettext gettext-base gir1.2-atk-1.0\n",
            "  gir1.2-freedesktop gir1.2-gdkpixbuf-2.0 gir1.2-gtk-2.0 gir1.2-ibus-1.0\n",
            "  gir1.2-pango-1.0 intltool-debian libarchive-cpio-perl libarchive-zip-perl\n",
            "  libatk1.0-dev libaudio2 libcairo-script-interpreter2 libcairo2-dev\n",
            "  libcapnp-0.6.1 libdbus-1-dev libfile-stripnondeterminism-perl libfluidsynth1\n",
            "  libgail-common libgail18 libgdk-pixbuf2.0-dev libgtk2.0-0 libgtk2.0-bin\n",
            "  libgtk2.0-common libibus-1.0-5 libibus-1.0-dev libmagic-mgc libmagic1\n",
            "  libmail-sendmail-perl libmirclient-dev libmirclient9 libmircommon-dev\n",
            "  libmircommon7 libmircookie-dev libmircookie2 libmircore-dev libmircore1\n",
            "  libmirprotobuf3 libpango1.0-dev libpangoxft-1.0-0 libpixman-1-dev\n",
            "  libprotobuf-dev libprotobuf-lite10 libpulse-dev libpulse-mainloop-glib0\n",
            "  libsigsegv2 libsndio-dev libsys-hostname-long-perl libtimedate-perl libtool\n",
            "  libudev-dev libwildmidi-config libwildmidi2 libxcb-shm0-dev\n",
            "  libxcomposite-dev libxcursor-dev libxinerama-dev libxkbcommon-dev\n",
            "  libxml2-utils libxrandr-dev libxv-dev m4 po-debconf timidity-daemon\n",
            "  x11proto-composite-dev x11proto-randr-dev x11proto-xinerama-dev\n",
            "Suggested packages:\n",
            "  autoconf-archive gnu-standards autoconf-doc dh-make dwz gettext-doc\n",
            "  libasprintf-dev libgettextpo-dev nas libcairo2-doc fluidr3mono-gm-soundfont\n",
            "  | timgm6mb-soundfont | fluid-soundfont-gm gvfs libgtk2.0-doc imagemagick\n",
            "  libpango1.0-doc libtool-doc gcj-jdk m4-doc libmail-box-perl ncompress\n",
            "  tar-scripts tar-doc fluid-soundfont-gm fluid-soundfont-gs pmidi\n",
            "The following NEW packages will be installed:\n",
            "  autoconf automake autopoint autotools-dev debhelper dh-autoreconf\n",
            "  dh-strip-nondeterminism file freepats gettext gettext-base gir1.2-atk-1.0\n",
            "  gir1.2-freedesktop gir1.2-gdkpixbuf-2.0 gir1.2-gtk-2.0 gir1.2-ibus-1.0\n",
            "  gir1.2-pango-1.0 intltool-debian libarchive-cpio-perl libarchive-zip-perl\n",
            "  libatk1.0-dev libaudio2 libcairo-script-interpreter2 libcairo2-dev\n",
            "  libcapnp-0.6.1 libdbus-1-dev libfile-stripnondeterminism-perl\n",
            "  libfluidsynth-dev libfluidsynth1 libgail-common libgail18\n",
            "  libgdk-pixbuf2.0-dev libgme-dev libgtk2.0-0 libgtk2.0-bin libgtk2.0-common\n",
            "  libgtk2.0-dev libibus-1.0-5 libibus-1.0-dev libmagic-mgc libmagic1\n",
            "  libmail-sendmail-perl libmirclient-dev libmirclient9 libmircommon-dev\n",
            "  libmircommon7 libmircookie-dev libmircookie2 libmircore-dev libmircore1\n",
            "  libmirprotobuf3 libopenal-dev libpango1.0-dev libpangoxft-1.0-0\n",
            "  libpixman-1-dev libprotobuf-dev libprotobuf-lite10 libpulse-dev\n",
            "  libpulse-mainloop-glib0 libsdl2-dev libsigsegv2 libsndio-dev\n",
            "  libsys-hostname-long-perl libtimedate-perl libtool libudev-dev\n",
            "  libwildmidi-config libwildmidi-dev libwildmidi2 libxcb-shm0-dev\n",
            "  libxcomposite-dev libxcursor-dev libxinerama-dev libxkbcommon-dev\n",
            "  libxml2-utils libxrandr-dev libxv-dev m4 nasm po-debconf timidity\n",
            "  timidity-daemon x11proto-composite-dev x11proto-randr-dev\n",
            "  x11proto-xinerama-dev\n",
            "The following packages will be upgraded:\n",
            "  tar\n",
            "1 upgraded, 85 newly installed, 0 to remove and 38 not upgraded.\n",
            "Need to get 45.4 MB of archives.\n",
            "After this operation, 121 MB of additional disk space will be used.\n",
            "Get:1 http://archive.ubuntu.com/ubuntu bionic-updates/main amd64 tar amd64 1.29b-2ubuntu0.2 [234 kB]\n",
            "Get:2 http://archive.ubuntu.com/ubuntu bionic-updates/main amd64 libmagic-mgc amd64 1:5.32-2ubuntu0.4 [184 kB]\n",
            "Get:3 http://archive.ubuntu.com/ubuntu bionic-updates/main amd64 libmagic1 amd64 1:5.32-2ubuntu0.4 [68.6 kB]\n",
            "Get:4 http://archive.ubuntu.com/ubuntu bionic-updates/main amd64 file amd64 1:5.32-2ubuntu0.4 [22.1 kB]\n",
            "Get:5 http://archive.ubuntu.com/ubuntu bionic-updates/main amd64 gettext-base amd64 0.19.8.1-6ubuntu0.3 [113 kB]\n",
            "Get:6 http://archive.ubuntu.com/ubuntu bionic/main amd64 libsigsegv2 amd64 2.12-1 [14.7 kB]\n",
            "Get:7 http://archive.ubuntu.com/ubuntu bionic/main amd64 m4 amd64 1.4.18-1 [197 kB]\n",
            "Get:8 http://archive.ubuntu.com/ubuntu bionic/main amd64 autoconf all 2.69-11 [322 kB]\n",
            "Get:9 http://archive.ubuntu.com/ubuntu bionic/main amd64 autotools-dev all 20180224.1 [39.6 kB]\n",
            "Get:10 http://archive.ubuntu.com/ubuntu bionic/main amd64 automake all 1:1.15.1-3ubuntu2 [509 kB]\n",
            "Get:11 http://archive.ubuntu.com/ubuntu bionic-updates/main amd64 autopoint all 0.19.8.1-6ubuntu0.3 [426 kB]\n",
            "Get:12 http://archive.ubuntu.com/ubuntu bionic/main amd64 libtool all 2.4.6-2 [194 kB]\n",
            "Get:13 http://archive.ubuntu.com/ubuntu bionic/main amd64 dh-autoreconf all 17 [15.8 kB]\n",
            "Get:14 http://archive.ubuntu.com/ubuntu bionic-updates/main amd64 libarchive-zip-perl all 1.60-1ubuntu0.1 [84.6 kB]\n",
            "Get:15 http://archive.ubuntu.com/ubuntu bionic/main amd64 libfile-stripnondeterminism-perl all 0.040-1.1~build1 [13.8 kB]\n",
            "Get:16 http://archive.ubuntu.com/ubuntu bionic/main amd64 libtimedate-perl all 2.3000-2 [37.5 kB]\n",
            "Get:17 http://archive.ubuntu.com/ubuntu bionic/main amd64 dh-strip-nondeterminism all 0.040-1.1~build1 [5,208 B]\n",
            "Get:18 http://archive.ubuntu.com/ubuntu bionic-updates/main amd64 gettext amd64 0.19.8.1-6ubuntu0.3 [1,293 kB]\n",
            "Get:19 http://archive.ubuntu.com/ubuntu bionic/main amd64 intltool-debian all 0.35.0+20060710.4 [24.9 kB]\n",
            "Get:20 http://archive.ubuntu.com/ubuntu bionic/main amd64 po-debconf all 1.0.20 [232 kB]\n",
            "Get:21 http://archive.ubuntu.com/ubuntu bionic-updates/main amd64 debhelper all 11.1.6ubuntu2 [902 kB]\n",
            "Get:22 http://archive.ubuntu.com/ubuntu bionic/universe amd64 freepats all 20060219-1 [29.0 MB]\n",
            "Get:23 http://archive.ubuntu.com/ubuntu bionic/main amd64 gir1.2-atk-1.0 amd64 2.28.1-1 [17.8 kB]\n",
            "Get:24 http://archive.ubuntu.com/ubuntu bionic/main amd64 gir1.2-freedesktop amd64 1.56.1-1 [9,080 B]\n",
            "Get:25 http://archive.ubuntu.com/ubuntu bionic/main amd64 gir1.2-gdkpixbuf-2.0 amd64 2.36.11-2 [7,748 B]\n",
            "Get:26 http://archive.ubuntu.com/ubuntu bionic/main amd64 libgtk2.0-common all 2.24.32-1ubuntu1 [125 kB]\n",
            "Get:27 http://archive.ubuntu.com/ubuntu bionic-updates/main amd64 libpangoxft-1.0-0 amd64 1.40.14-1ubuntu0.1 [15.0 kB]\n",
            "Get:28 http://archive.ubuntu.com/ubuntu bionic-updates/main amd64 gir1.2-pango-1.0 amd64 1.40.14-1ubuntu0.1 [21.6 kB]\n",
            "Get:29 http://archive.ubuntu.com/ubuntu bionic/main amd64 libgtk2.0-0 amd64 2.24.32-1ubuntu1 [1,769 kB]\n",
            "Get:30 http://archive.ubuntu.com/ubuntu bionic/main amd64 gir1.2-gtk-2.0 amd64 2.24.32-1ubuntu1 [172 kB]\n",
            "Get:31 http://archive.ubuntu.com/ubuntu bionic-updates/main amd64 libibus-1.0-5 amd64 1.5.17-3ubuntu5.3 [133 kB]\n",
            "Get:32 http://archive.ubuntu.com/ubuntu bionic-updates/main amd64 gir1.2-ibus-1.0 amd64 1.5.17-3ubuntu5.3 [66.5 kB]\n",
            "Get:33 http://archive.ubuntu.com/ubuntu bionic/main amd64 libarchive-cpio-perl all 0.10-1 [9,644 B]\n",
            "Get:34 http://archive.ubuntu.com/ubuntu bionic/main amd64 libatk1.0-dev amd64 2.28.1-1 [79.9 kB]\n",
            "Get:35 http://archive.ubuntu.com/ubuntu bionic/main amd64 libaudio2 amd64 1.9.4-6 [50.3 kB]\n",
            "Get:36 http://archive.ubuntu.com/ubuntu bionic-updates/main amd64 libcairo-script-interpreter2 amd64 1.15.10-2ubuntu0.1 [53.5 kB]\n",
            "Get:37 http://archive.ubuntu.com/ubuntu bionic/main amd64 libpixman-1-dev amd64 0.34.0-2 [244 kB]\n",
            "Get:38 http://archive.ubuntu.com/ubuntu bionic-updates/main amd64 libxcb-shm0-dev amd64 1.13-2~ubuntu18.04 [6,684 B]\n",
            "Get:39 http://archive.ubuntu.com/ubuntu bionic-updates/main amd64 libcairo2-dev amd64 1.15.10-2ubuntu0.1 [626 kB]\n",
            "Get:40 http://archive.ubuntu.com/ubuntu bionic/main amd64 libcapnp-0.6.1 amd64 0.6.1-1ubuntu1 [658 kB]\n",
            "Get:41 http://archive.ubuntu.com/ubuntu bionic-updates/main amd64 libdbus-1-dev amd64 1.12.2-1ubuntu1.2 [165 kB]\n",
            "Get:42 http://archive.ubuntu.com/ubuntu bionic/universe amd64 libfluidsynth1 amd64 1.1.9-1 [137 kB]\n",
            "Get:43 http://archive.ubuntu.com/ubuntu bionic/universe amd64 libfluidsynth-dev amd64 1.1.9-1 [19.7 kB]\n",
            "Get:44 http://archive.ubuntu.com/ubuntu bionic/main amd64 libgail18 amd64 2.24.32-1ubuntu1 [14.2 kB]\n",
            "Get:45 http://archive.ubuntu.com/ubuntu bionic/main amd64 libgail-common amd64 2.24.32-1ubuntu1 [112 kB]\n",
            "Get:46 http://archive.ubuntu.com/ubuntu bionic/main amd64 libgdk-pixbuf2.0-dev amd64 2.36.11-2 [46.8 kB]\n",
            "Get:47 http://archive.ubuntu.com/ubuntu bionic/universe amd64 libgme-dev amd64 0.6.2-1 [5,796 B]\n",
            "Get:48 http://archive.ubuntu.com/ubuntu bionic/main amd64 libgtk2.0-bin amd64 2.24.32-1ubuntu1 [7,536 B]\n",
            "Get:49 http://archive.ubuntu.com/ubuntu bionic-updates/main amd64 libpango1.0-dev amd64 1.40.14-1ubuntu0.1 [288 kB]\n",
            "Get:50 http://archive.ubuntu.com/ubuntu bionic/main amd64 x11proto-xinerama-dev all 2018.4-4 [2,628 B]\n",
            "Get:51 http://archive.ubuntu.com/ubuntu bionic/main amd64 libxinerama-dev amd64 2:1.1.3-1 [8,404 B]\n",
            "Get:52 http://archive.ubuntu.com/ubuntu bionic/main amd64 x11proto-randr-dev all 2018.4-4 [2,620 B]\n",
            "Get:53 http://archive.ubuntu.com/ubuntu bionic/main amd64 libxrandr-dev amd64 2:1.5.1-1 [24.0 kB]\n",
            "Get:54 http://archive.ubuntu.com/ubuntu bionic/main amd64 libxcursor-dev amd64 1:1.1.15-1 [26.5 kB]\n",
            "Get:55 http://archive.ubuntu.com/ubuntu bionic/main amd64 x11proto-composite-dev all 1:2018.4-4 [2,620 B]\n",
            "Get:56 http://archive.ubuntu.com/ubuntu bionic/main amd64 libxcomposite-dev amd64 1:0.4.4-2 [9,136 B]\n",
            "Get:57 http://archive.ubuntu.com/ubuntu bionic-updates/main amd64 libxml2-utils amd64 2.9.4+dfsg1-6.1ubuntu1.4 [35.8 kB]\n",
            "Get:58 http://archive.ubuntu.com/ubuntu bionic/main amd64 libgtk2.0-dev amd64 2.24.32-1ubuntu1 [2,652 kB]\n",
            "Get:59 http://archive.ubuntu.com/ubuntu bionic-updates/main amd64 libibus-1.0-dev amd64 1.5.17-3ubuntu5.3 [145 kB]\n",
            "Get:60 http://archive.ubuntu.com/ubuntu bionic/main amd64 libsys-hostname-long-perl all 1.5-1 [11.7 kB]\n",
            "Get:61 http://archive.ubuntu.com/ubuntu bionic/main amd64 libmail-sendmail-perl all 0.80-1 [22.6 kB]\n",
            "Get:62 http://archive.ubuntu.com/ubuntu bionic/main amd64 libmircore1 amd64 0.31.1-0ubuntu1 [26.5 kB]\n",
            "Get:63 http://archive.ubuntu.com/ubuntu bionic/main amd64 libmircommon7 amd64 0.31.1-0ubuntu1 [73.9 kB]\n",
            "Get:64 http://archive.ubuntu.com/ubuntu bionic/main amd64 libprotobuf-lite10 amd64 3.0.0-9.1ubuntu1 [97.7 kB]\n",
            "Get:65 http://archive.ubuntu.com/ubuntu bionic/main amd64 libmirprotobuf3 amd64 0.31.1-0ubuntu1 [127 kB]\n",
            "Get:66 http://archive.ubuntu.com/ubuntu bionic/main amd64 libmirclient9 amd64 0.31.1-0ubuntu1 [199 kB]\n",
            "Get:67 http://archive.ubuntu.com/ubuntu bionic/main amd64 libmircore-dev amd64 0.31.1-0ubuntu1 [21.7 kB]\n",
            "Get:68 http://archive.ubuntu.com/ubuntu bionic/main amd64 libprotobuf-dev amd64 3.0.0-9.1ubuntu1 [959 kB]\n",
            "Get:69 http://archive.ubuntu.com/ubuntu bionic-updates/main amd64 libxkbcommon-dev amd64 0.8.2-1~ubuntu18.04.1 [150 kB]\n",
            "Get:70 http://archive.ubuntu.com/ubuntu bionic/main amd64 libmircommon-dev amd64 0.31.1-0ubuntu1 [13.9 kB]\n",
            "Get:71 http://archive.ubuntu.com/ubuntu bionic/main amd64 libmircookie2 amd64 0.31.1-0ubuntu1 [19.7 kB]\n",
            "Get:72 http://archive.ubuntu.com/ubuntu bionic/main amd64 libmircookie-dev amd64 0.31.1-0ubuntu1 [4,392 B]\n",
            "Get:73 http://archive.ubuntu.com/ubuntu bionic/main amd64 libmirclient-dev amd64 0.31.1-0ubuntu1 [47.8 kB]\n",
            "Get:74 http://archive.ubuntu.com/ubuntu bionic/universe amd64 libopenal-dev amd64 1:1.18.2-2 [20.9 kB]\n",
            "Get:75 http://archive.ubuntu.com/ubuntu bionic-updates/main amd64 libpulse-mainloop-glib0 amd64 1:11.1-1ubuntu7.11 [22.1 kB]\n",
            "Get:76 http://archive.ubuntu.com/ubuntu bionic-updates/main amd64 libpulse-dev amd64 1:11.1-1ubuntu7.11 [81.5 kB]\n",
            "Get:77 http://archive.ubuntu.com/ubuntu bionic/universe amd64 libsndio-dev amd64 1.1.0-3 [13.3 kB]\n",
            "Get:78 http://archive.ubuntu.com/ubuntu bionic-updates/main amd64 libudev-dev amd64 237-3ubuntu10.52 [19.1 kB]\n",
            "Get:79 http://archive.ubuntu.com/ubuntu bionic/main amd64 libxv-dev amd64 2:1.0.11-1 [32.5 kB]\n",
            "Get:80 http://archive.ubuntu.com/ubuntu bionic-updates/universe amd64 libsdl2-dev amd64 2.0.8+dfsg1-1ubuntu1.18.04.4 [683 kB]\n",
            "Get:81 http://archive.ubuntu.com/ubuntu bionic/universe amd64 libwildmidi-config all 0.4.2-1 [7,212 B]\n",
            "Get:82 http://archive.ubuntu.com/ubuntu bionic/universe amd64 libwildmidi2 amd64 0.4.2-1 [55.8 kB]\n",
            "Get:83 http://archive.ubuntu.com/ubuntu bionic/universe amd64 libwildmidi-dev amd64 0.4.2-1 [86.4 kB]\n",
            "Get:84 http://archive.ubuntu.com/ubuntu bionic/universe amd64 nasm amd64 2.13.02-0.1 [359 kB]\n",
            "Get:85 http://archive.ubuntu.com/ubuntu bionic/universe amd64 timidity amd64 2.13.2-41 [585 kB]\n",
            "Get:86 http://archive.ubuntu.com/ubuntu bionic/universe amd64 timidity-daemon all 2.13.2-41 [5,984 B]\n",
            "Fetched 45.4 MB in 3s (14.4 MB/s)\n",
            "debconf: unable to initialize frontend: Dialog\n",
            "debconf: (No usable dialog-like program is installed, so the dialog based frontend cannot be used. at /usr/share/perl5/Debconf/FrontEnd/Dialog.pm line 76, <> line 86.)\n",
            "debconf: falling back to frontend: Readline\n",
            "debconf: unable to initialize frontend: Readline\n",
            "debconf: (This frontend requires a controlling tty.)\n",
            "debconf: falling back to frontend: Teletype\n",
            "dpkg-preconfigure: unable to re-open stdin: \n",
            "(Reading database ... 155222 files and directories currently installed.)\n",
            "Preparing to unpack .../tar_1.29b-2ubuntu0.2_amd64.deb ...\n",
            "Unpacking tar (1.29b-2ubuntu0.2) over (1.29b-2ubuntu0.1) ...\n",
            "Setting up tar (1.29b-2ubuntu0.2) ...\n",
            "update-alternatives: warning: forcing reinstallation of alternative /usr/sbin/rmt-tar because link group rmt is broken\n",
            "Selecting previously unselected package libmagic-mgc.\n",
            "(Reading database ... 155222 files and directories currently installed.)\n",
            "Preparing to unpack .../00-libmagic-mgc_1%3a5.32-2ubuntu0.4_amd64.deb ...\n",
            "Unpacking libmagic-mgc (1:5.32-2ubuntu0.4) ...\n",
            "Selecting previously unselected package libmagic1:amd64.\n",
            "Preparing to unpack .../01-libmagic1_1%3a5.32-2ubuntu0.4_amd64.deb ...\n",
            "Unpacking libmagic1:amd64 (1:5.32-2ubuntu0.4) ...\n",
            "Selecting previously unselected package file.\n",
            "Preparing to unpack .../02-file_1%3a5.32-2ubuntu0.4_amd64.deb ...\n",
            "Unpacking file (1:5.32-2ubuntu0.4) ...\n",
            "Selecting previously unselected package gettext-base.\n",
            "Preparing to unpack .../03-gettext-base_0.19.8.1-6ubuntu0.3_amd64.deb ...\n",
            "Unpacking gettext-base (0.19.8.1-6ubuntu0.3) ...\n",
            "Selecting previously unselected package libsigsegv2:amd64.\n",
            "Preparing to unpack .../04-libsigsegv2_2.12-1_amd64.deb ...\n",
            "Unpacking libsigsegv2:amd64 (2.12-1) ...\n",
            "Selecting previously unselected package m4.\n",
            "Preparing to unpack .../05-m4_1.4.18-1_amd64.deb ...\n",
            "Unpacking m4 (1.4.18-1) ...\n",
            "Selecting previously unselected package autoconf.\n",
            "Preparing to unpack .../06-autoconf_2.69-11_all.deb ...\n",
            "Unpacking autoconf (2.69-11) ...\n",
            "Selecting previously unselected package autotools-dev.\n",
            "Preparing to unpack .../07-autotools-dev_20180224.1_all.deb ...\n",
            "Unpacking autotools-dev (20180224.1) ...\n",
            "Selecting previously unselected package automake.\n",
            "Preparing to unpack .../08-automake_1%3a1.15.1-3ubuntu2_all.deb ...\n",
            "Unpacking automake (1:1.15.1-3ubuntu2) ...\n",
            "Selecting previously unselected package autopoint.\n",
            "Preparing to unpack .../09-autopoint_0.19.8.1-6ubuntu0.3_all.deb ...\n",
            "Unpacking autopoint (0.19.8.1-6ubuntu0.3) ...\n",
            "Selecting previously unselected package libtool.\n",
            "Preparing to unpack .../10-libtool_2.4.6-2_all.deb ...\n",
            "Unpacking libtool (2.4.6-2) ...\n",
            "Selecting previously unselected package dh-autoreconf.\n",
            "Preparing to unpack .../11-dh-autoreconf_17_all.deb ...\n",
            "Unpacking dh-autoreconf (17) ...\n",
            "Selecting previously unselected package libarchive-zip-perl.\n",
            "Preparing to unpack .../12-libarchive-zip-perl_1.60-1ubuntu0.1_all.deb ...\n",
            "Unpacking libarchive-zip-perl (1.60-1ubuntu0.1) ...\n",
            "Selecting previously unselected package libfile-stripnondeterminism-perl.\n",
            "Preparing to unpack .../13-libfile-stripnondeterminism-perl_0.040-1.1~build1_all.deb ...\n",
            "Unpacking libfile-stripnondeterminism-perl (0.040-1.1~build1) ...\n",
            "Selecting previously unselected package libtimedate-perl.\n",
            "Preparing to unpack .../14-libtimedate-perl_2.3000-2_all.deb ...\n",
            "Unpacking libtimedate-perl (2.3000-2) ...\n",
            "Selecting previously unselected package dh-strip-nondeterminism.\n",
            "Preparing to unpack .../15-dh-strip-nondeterminism_0.040-1.1~build1_all.deb ...\n",
            "Unpacking dh-strip-nondeterminism (0.040-1.1~build1) ...\n",
            "Selecting previously unselected package gettext.\n",
            "Preparing to unpack .../16-gettext_0.19.8.1-6ubuntu0.3_amd64.deb ...\n",
            "Unpacking gettext (0.19.8.1-6ubuntu0.3) ...\n",
            "Selecting previously unselected package intltool-debian.\n",
            "Preparing to unpack .../17-intltool-debian_0.35.0+20060710.4_all.deb ...\n",
            "Unpacking intltool-debian (0.35.0+20060710.4) ...\n",
            "Selecting previously unselected package po-debconf.\n",
            "Preparing to unpack .../18-po-debconf_1.0.20_all.deb ...\n",
            "Unpacking po-debconf (1.0.20) ...\n",
            "Selecting previously unselected package debhelper.\n",
            "Preparing to unpack .../19-debhelper_11.1.6ubuntu2_all.deb ...\n",
            "Unpacking debhelper (11.1.6ubuntu2) ...\n",
            "Selecting previously unselected package freepats.\n",
            "Preparing to unpack .../20-freepats_20060219-1_all.deb ...\n",
            "Unpacking freepats (20060219-1) ...\n",
            "Selecting previously unselected package gir1.2-atk-1.0:amd64.\n",
            "Preparing to unpack .../21-gir1.2-atk-1.0_2.28.1-1_amd64.deb ...\n",
            "Unpacking gir1.2-atk-1.0:amd64 (2.28.1-1) ...\n",
            "Selecting previously unselected package gir1.2-freedesktop:amd64.\n",
            "Preparing to unpack .../22-gir1.2-freedesktop_1.56.1-1_amd64.deb ...\n",
            "Unpacking gir1.2-freedesktop:amd64 (1.56.1-1) ...\n",
            "Selecting previously unselected package gir1.2-gdkpixbuf-2.0:amd64.\n",
            "Preparing to unpack .../23-gir1.2-gdkpixbuf-2.0_2.36.11-2_amd64.deb ...\n",
            "Unpacking gir1.2-gdkpixbuf-2.0:amd64 (2.36.11-2) ...\n",
            "Selecting previously unselected package libgtk2.0-common.\n",
            "Preparing to unpack .../24-libgtk2.0-common_2.24.32-1ubuntu1_all.deb ...\n",
            "Unpacking libgtk2.0-common (2.24.32-1ubuntu1) ...\n",
            "Selecting previously unselected package libpangoxft-1.0-0:amd64.\n",
            "Preparing to unpack .../25-libpangoxft-1.0-0_1.40.14-1ubuntu0.1_amd64.deb ...\n",
            "Unpacking libpangoxft-1.0-0:amd64 (1.40.14-1ubuntu0.1) ...\n",
            "Selecting previously unselected package gir1.2-pango-1.0:amd64.\n",
            "Preparing to unpack .../26-gir1.2-pango-1.0_1.40.14-1ubuntu0.1_amd64.deb ...\n",
            "Unpacking gir1.2-pango-1.0:amd64 (1.40.14-1ubuntu0.1) ...\n",
            "Selecting previously unselected package libgtk2.0-0:amd64.\n",
            "Preparing to unpack .../27-libgtk2.0-0_2.24.32-1ubuntu1_amd64.deb ...\n",
            "Unpacking libgtk2.0-0:amd64 (2.24.32-1ubuntu1) ...\n",
            "Selecting previously unselected package gir1.2-gtk-2.0.\n",
            "Preparing to unpack .../28-gir1.2-gtk-2.0_2.24.32-1ubuntu1_amd64.deb ...\n",
            "Unpacking gir1.2-gtk-2.0 (2.24.32-1ubuntu1) ...\n",
            "Selecting previously unselected package libibus-1.0-5:amd64.\n",
            "Preparing to unpack .../29-libibus-1.0-5_1.5.17-3ubuntu5.3_amd64.deb ...\n",
            "Unpacking libibus-1.0-5:amd64 (1.5.17-3ubuntu5.3) ...\n",
            "Selecting previously unselected package gir1.2-ibus-1.0:amd64.\n",
            "Preparing to unpack .../30-gir1.2-ibus-1.0_1.5.17-3ubuntu5.3_amd64.deb ...\n",
            "Unpacking gir1.2-ibus-1.0:amd64 (1.5.17-3ubuntu5.3) ...\n",
            "Selecting previously unselected package libarchive-cpio-perl.\n",
            "Preparing to unpack .../31-libarchive-cpio-perl_0.10-1_all.deb ...\n",
            "Unpacking libarchive-cpio-perl (0.10-1) ...\n",
            "Selecting previously unselected package libatk1.0-dev:amd64.\n",
            "Preparing to unpack .../32-libatk1.0-dev_2.28.1-1_amd64.deb ...\n",
            "Unpacking libatk1.0-dev:amd64 (2.28.1-1) ...\n",
            "Selecting previously unselected package libaudio2:amd64.\n",
            "Preparing to unpack .../33-libaudio2_1.9.4-6_amd64.deb ...\n",
            "Unpacking libaudio2:amd64 (1.9.4-6) ...\n",
            "Selecting previously unselected package libcairo-script-interpreter2:amd64.\n",
            "Preparing to unpack .../34-libcairo-script-interpreter2_1.15.10-2ubuntu0.1_amd64.deb ...\n",
            "Unpacking libcairo-script-interpreter2:amd64 (1.15.10-2ubuntu0.1) ...\n",
            "Selecting previously unselected package libpixman-1-dev:amd64.\n",
            "Preparing to unpack .../35-libpixman-1-dev_0.34.0-2_amd64.deb ...\n",
            "Unpacking libpixman-1-dev:amd64 (0.34.0-2) ...\n",
            "Selecting previously unselected package libxcb-shm0-dev:amd64.\n",
            "Preparing to unpack .../36-libxcb-shm0-dev_1.13-2~ubuntu18.04_amd64.deb ...\n",
            "Unpacking libxcb-shm0-dev:amd64 (1.13-2~ubuntu18.04) ...\n",
            "Selecting previously unselected package libcairo2-dev:amd64.\n",
            "Preparing to unpack .../37-libcairo2-dev_1.15.10-2ubuntu0.1_amd64.deb ...\n",
            "Unpacking libcairo2-dev:amd64 (1.15.10-2ubuntu0.1) ...\n",
            "Selecting previously unselected package libcapnp-0.6.1:amd64.\n",
            "Preparing to unpack .../38-libcapnp-0.6.1_0.6.1-1ubuntu1_amd64.deb ...\n",
            "Unpacking libcapnp-0.6.1:amd64 (0.6.1-1ubuntu1) ...\n",
            "Selecting previously unselected package libdbus-1-dev:amd64.\n",
            "Preparing to unpack .../39-libdbus-1-dev_1.12.2-1ubuntu1.2_amd64.deb ...\n",
            "Unpacking libdbus-1-dev:amd64 (1.12.2-1ubuntu1.2) ...\n",
            "Selecting previously unselected package libfluidsynth1:amd64.\n",
            "Preparing to unpack .../40-libfluidsynth1_1.1.9-1_amd64.deb ...\n",
            "Unpacking libfluidsynth1:amd64 (1.1.9-1) ...\n",
            "Selecting previously unselected package libfluidsynth-dev:amd64.\n",
            "Preparing to unpack .../41-libfluidsynth-dev_1.1.9-1_amd64.deb ...\n",
            "Unpacking libfluidsynth-dev:amd64 (1.1.9-1) ...\n",
            "Selecting previously unselected package libgail18:amd64.\n",
            "Preparing to unpack .../42-libgail18_2.24.32-1ubuntu1_amd64.deb ...\n",
            "Unpacking libgail18:amd64 (2.24.32-1ubuntu1) ...\n",
            "Selecting previously unselected package libgail-common:amd64.\n",
            "Preparing to unpack .../43-libgail-common_2.24.32-1ubuntu1_amd64.deb ...\n",
            "Unpacking libgail-common:amd64 (2.24.32-1ubuntu1) ...\n",
            "Selecting previously unselected package libgdk-pixbuf2.0-dev.\n",
            "Preparing to unpack .../44-libgdk-pixbuf2.0-dev_2.36.11-2_amd64.deb ...\n",
            "Unpacking libgdk-pixbuf2.0-dev (2.36.11-2) ...\n",
            "Selecting previously unselected package libgme-dev:amd64.\n",
            "Preparing to unpack .../45-libgme-dev_0.6.2-1_amd64.deb ...\n",
            "Unpacking libgme-dev:amd64 (0.6.2-1) ...\n",
            "Selecting previously unselected package libgtk2.0-bin.\n",
            "Preparing to unpack .../46-libgtk2.0-bin_2.24.32-1ubuntu1_amd64.deb ...\n",
            "Unpacking libgtk2.0-bin (2.24.32-1ubuntu1) ...\n",
            "Selecting previously unselected package libpango1.0-dev.\n",
            "Preparing to unpack .../47-libpango1.0-dev_1.40.14-1ubuntu0.1_amd64.deb ...\n",
            "Unpacking libpango1.0-dev (1.40.14-1ubuntu0.1) ...\n",
            "Selecting previously unselected package x11proto-xinerama-dev.\n",
            "Preparing to unpack .../48-x11proto-xinerama-dev_2018.4-4_all.deb ...\n",
            "Unpacking x11proto-xinerama-dev (2018.4-4) ...\n",
            "Selecting previously unselected package libxinerama-dev:amd64.\n",
            "Preparing to unpack .../49-libxinerama-dev_2%3a1.1.3-1_amd64.deb ...\n",
            "Unpacking libxinerama-dev:amd64 (2:1.1.3-1) ...\n",
            "Selecting previously unselected package x11proto-randr-dev.\n",
            "Preparing to unpack .../50-x11proto-randr-dev_2018.4-4_all.deb ...\n",
            "Unpacking x11proto-randr-dev (2018.4-4) ...\n",
            "Selecting previously unselected package libxrandr-dev:amd64.\n",
            "Preparing to unpack .../51-libxrandr-dev_2%3a1.5.1-1_amd64.deb ...\n",
            "Unpacking libxrandr-dev:amd64 (2:1.5.1-1) ...\n",
            "Selecting previously unselected package libxcursor-dev:amd64.\n",
            "Preparing to unpack .../52-libxcursor-dev_1%3a1.1.15-1_amd64.deb ...\n",
            "Unpacking libxcursor-dev:amd64 (1:1.1.15-1) ...\n",
            "Selecting previously unselected package x11proto-composite-dev.\n",
            "Preparing to unpack .../53-x11proto-composite-dev_1%3a2018.4-4_all.deb ...\n",
            "Unpacking x11proto-composite-dev (1:2018.4-4) ...\n",
            "Selecting previously unselected package libxcomposite-dev:amd64.\n",
            "Preparing to unpack .../54-libxcomposite-dev_1%3a0.4.4-2_amd64.deb ...\n",
            "Unpacking libxcomposite-dev:amd64 (1:0.4.4-2) ...\n",
            "Selecting previously unselected package libxml2-utils.\n",
            "Preparing to unpack .../55-libxml2-utils_2.9.4+dfsg1-6.1ubuntu1.4_amd64.deb ...\n",
            "Unpacking libxml2-utils (2.9.4+dfsg1-6.1ubuntu1.4) ...\n",
            "Selecting previously unselected package libgtk2.0-dev.\n",
            "Preparing to unpack .../56-libgtk2.0-dev_2.24.32-1ubuntu1_amd64.deb ...\n",
            "Unpacking libgtk2.0-dev (2.24.32-1ubuntu1) ...\n",
            "Selecting previously unselected package libibus-1.0-dev:amd64.\n",
            "Preparing to unpack .../57-libibus-1.0-dev_1.5.17-3ubuntu5.3_amd64.deb ...\n",
            "Unpacking libibus-1.0-dev:amd64 (1.5.17-3ubuntu5.3) ...\n",
            "Selecting previously unselected package libsys-hostname-long-perl.\n",
            "Preparing to unpack .../58-libsys-hostname-long-perl_1.5-1_all.deb ...\n",
            "Unpacking libsys-hostname-long-perl (1.5-1) ...\n",
            "Selecting previously unselected package libmail-sendmail-perl.\n",
            "Preparing to unpack .../59-libmail-sendmail-perl_0.80-1_all.deb ...\n",
            "Unpacking libmail-sendmail-perl (0.80-1) ...\n",
            "Selecting previously unselected package libmircore1:amd64.\n",
            "Preparing to unpack .../60-libmircore1_0.31.1-0ubuntu1_amd64.deb ...\n",
            "Unpacking libmircore1:amd64 (0.31.1-0ubuntu1) ...\n",
            "Selecting previously unselected package libmircommon7:amd64.\n",
            "Preparing to unpack .../61-libmircommon7_0.31.1-0ubuntu1_amd64.deb ...\n",
            "Unpacking libmircommon7:amd64 (0.31.1-0ubuntu1) ...\n",
            "Selecting previously unselected package libprotobuf-lite10:amd64.\n",
            "Preparing to unpack .../62-libprotobuf-lite10_3.0.0-9.1ubuntu1_amd64.deb ...\n",
            "Unpacking libprotobuf-lite10:amd64 (3.0.0-9.1ubuntu1) ...\n",
            "Selecting previously unselected package libmirprotobuf3:amd64.\n",
            "Preparing to unpack .../63-libmirprotobuf3_0.31.1-0ubuntu1_amd64.deb ...\n",
            "Unpacking libmirprotobuf3:amd64 (0.31.1-0ubuntu1) ...\n",
            "Selecting previously unselected package libmirclient9:amd64.\n",
            "Preparing to unpack .../64-libmirclient9_0.31.1-0ubuntu1_amd64.deb ...\n",
            "Unpacking libmirclient9:amd64 (0.31.1-0ubuntu1) ...\n",
            "Selecting previously unselected package libmircore-dev:amd64.\n",
            "Preparing to unpack .../65-libmircore-dev_0.31.1-0ubuntu1_amd64.deb ...\n",
            "Unpacking libmircore-dev:amd64 (0.31.1-0ubuntu1) ...\n",
            "Selecting previously unselected package libprotobuf-dev:amd64.\n",
            "Preparing to unpack .../66-libprotobuf-dev_3.0.0-9.1ubuntu1_amd64.deb ...\n",
            "Unpacking libprotobuf-dev:amd64 (3.0.0-9.1ubuntu1) ...\n",
            "Selecting previously unselected package libxkbcommon-dev:amd64.\n",
            "Preparing to unpack .../67-libxkbcommon-dev_0.8.2-1~ubuntu18.04.1_amd64.deb ...\n",
            "Unpacking libxkbcommon-dev:amd64 (0.8.2-1~ubuntu18.04.1) ...\n",
            "Selecting previously unselected package libmircommon-dev:amd64.\n",
            "Preparing to unpack .../68-libmircommon-dev_0.31.1-0ubuntu1_amd64.deb ...\n",
            "Unpacking libmircommon-dev:amd64 (0.31.1-0ubuntu1) ...\n",
            "Selecting previously unselected package libmircookie2:amd64.\n",
            "Preparing to unpack .../69-libmircookie2_0.31.1-0ubuntu1_amd64.deb ...\n",
            "Unpacking libmircookie2:amd64 (0.31.1-0ubuntu1) ...\n",
            "Selecting previously unselected package libmircookie-dev:amd64.\n",
            "Preparing to unpack .../70-libmircookie-dev_0.31.1-0ubuntu1_amd64.deb ...\n",
            "Unpacking libmircookie-dev:amd64 (0.31.1-0ubuntu1) ...\n",
            "Selecting previously unselected package libmirclient-dev:amd64.\n",
            "Preparing to unpack .../71-libmirclient-dev_0.31.1-0ubuntu1_amd64.deb ...\n",
            "Unpacking libmirclient-dev:amd64 (0.31.1-0ubuntu1) ...\n",
            "Selecting previously unselected package libopenal-dev:amd64.\n",
            "Preparing to unpack .../72-libopenal-dev_1%3a1.18.2-2_amd64.deb ...\n",
            "Unpacking libopenal-dev:amd64 (1:1.18.2-2) ...\n",
            "Selecting previously unselected package libpulse-mainloop-glib0:amd64.\n",
            "Preparing to unpack .../73-libpulse-mainloop-glib0_1%3a11.1-1ubuntu7.11_amd64.deb ...\n",
            "Unpacking libpulse-mainloop-glib0:amd64 (1:11.1-1ubuntu7.11) ...\n",
            "Selecting previously unselected package libpulse-dev:amd64.\n",
            "Preparing to unpack .../74-libpulse-dev_1%3a11.1-1ubuntu7.11_amd64.deb ...\n",
            "Unpacking libpulse-dev:amd64 (1:11.1-1ubuntu7.11) ...\n",
            "Selecting previously unselected package libsndio-dev:amd64.\n",
            "Preparing to unpack .../75-libsndio-dev_1.1.0-3_amd64.deb ...\n",
            "Unpacking libsndio-dev:amd64 (1.1.0-3) ...\n",
            "Selecting previously unselected package libudev-dev:amd64.\n",
            "Preparing to unpack .../76-libudev-dev_237-3ubuntu10.52_amd64.deb ...\n",
            "Unpacking libudev-dev:amd64 (237-3ubuntu10.52) ...\n",
            "Selecting previously unselected package libxv-dev:amd64.\n",
            "Preparing to unpack .../77-libxv-dev_2%3a1.0.11-1_amd64.deb ...\n",
            "Unpacking libxv-dev:amd64 (2:1.0.11-1) ...\n",
            "Selecting previously unselected package libsdl2-dev:amd64.\n",
            "Preparing to unpack .../78-libsdl2-dev_2.0.8+dfsg1-1ubuntu1.18.04.4_amd64.deb ...\n",
            "Unpacking libsdl2-dev:amd64 (2.0.8+dfsg1-1ubuntu1.18.04.4) ...\n",
            "Selecting previously unselected package libwildmidi-config.\n",
            "Preparing to unpack .../79-libwildmidi-config_0.4.2-1_all.deb ...\n",
            "Unpacking libwildmidi-config (0.4.2-1) ...\n",
            "Selecting previously unselected package libwildmidi2:amd64.\n",
            "Preparing to unpack .../80-libwildmidi2_0.4.2-1_amd64.deb ...\n",
            "Unpacking libwildmidi2:amd64 (0.4.2-1) ...\n",
            "Selecting previously unselected package libwildmidi-dev.\n",
            "Preparing to unpack .../81-libwildmidi-dev_0.4.2-1_amd64.deb ...\n",
            "Unpacking libwildmidi-dev (0.4.2-1) ...\n",
            "Selecting previously unselected package nasm.\n",
            "Preparing to unpack .../82-nasm_2.13.02-0.1_amd64.deb ...\n",
            "Unpacking nasm (2.13.02-0.1) ...\n",
            "Selecting previously unselected package timidity.\n",
            "Preparing to unpack .../83-timidity_2.13.2-41_amd64.deb ...\n",
            "Unpacking timidity (2.13.2-41) ...\n",
            "Selecting previously unselected package timidity-daemon.\n",
            "Preparing to unpack .../84-timidity-daemon_2.13.2-41_all.deb ...\n",
            "Unpacking timidity-daemon (2.13.2-41) ...\n",
            "Setting up libdbus-1-dev:amd64 (1.12.2-1ubuntu1.2) ...\n",
            "Setting up libxcursor-dev:amd64 (1:1.1.15-1) ...\n",
            "Setting up gir1.2-atk-1.0:amd64 (2.28.1-1) ...\n",
            "Setting up libgtk2.0-common (2.24.32-1ubuntu1) ...\n",
            "Setting up libxkbcommon-dev:amd64 (0.8.2-1~ubuntu18.04.1) ...\n",
            "Setting up libpulse-mainloop-glib0:amd64 (1:11.1-1ubuntu7.11) ...\n",
            "Setting up libpulse-dev:amd64 (1:11.1-1ubuntu7.11) ...\n",
            "Setting up libarchive-zip-perl (1.60-1ubuntu0.1) ...\n",
            "Setting up libmircore-dev:amd64 (0.31.1-0ubuntu1) ...\n",
            "Setting up libtimedate-perl (2.3000-2) ...\n",
            "Setting up libcairo-script-interpreter2:amd64 (1.15.10-2ubuntu0.1) ...\n",
            "Setting up libsigsegv2:amd64 (2.12-1) ...\n",
            "Setting up libgme-dev:amd64 (0.6.2-1) ...\n",
            "Setting up gir1.2-freedesktop:amd64 (1.56.1-1) ...\n",
            "Setting up libsndio-dev:amd64 (1.1.0-3) ...\n",
            "Setting up libxcb-shm0-dev:amd64 (1.13-2~ubuntu18.04) ...\n",
            "Setting up libpangoxft-1.0-0:amd64 (1.40.14-1ubuntu0.1) ...\n",
            "Setting up libxml2-utils (2.9.4+dfsg1-6.1ubuntu1.4) ...\n",
            "Setting up libarchive-cpio-perl (0.10-1) ...\n",
            "Setting up gir1.2-gdkpixbuf-2.0:amd64 (2.36.11-2) ...\n",
            "Setting up libatk1.0-dev:amd64 (2.28.1-1) ...\n",
            "Setting up gettext-base (0.19.8.1-6ubuntu0.3) ...\n",
            "Setting up m4 (1.4.18-1) ...\n",
            "Setting up libmagic-mgc (1:5.32-2ubuntu0.4) ...\n",
            "Setting up gir1.2-pango-1.0:amd64 (1.40.14-1ubuntu0.1) ...\n",
            "Setting up libmagic1:amd64 (1:5.32-2ubuntu0.4) ...\n",
            "Setting up libopenal-dev:amd64 (1:1.18.2-2) ...\n",
            "Setting up libsys-hostname-long-perl (1.5-1) ...\n",
            "Setting up libwildmidi-config (0.4.2-1) ...\n",
            "Setting up libmircookie2:amd64 (0.31.1-0ubuntu1) ...\n",
            "Setting up libgdk-pixbuf2.0-dev (2.36.11-2) ...\n",
            "Setting up libmail-sendmail-perl (0.80-1) ...\n",
            "Setting up x11proto-xinerama-dev (2018.4-4) ...\n",
            "Setting up autotools-dev (20180224.1) ...\n",
            "Setting up libpixman-1-dev:amd64 (0.34.0-2) ...\n",
            "Setting up x11proto-randr-dev (2018.4-4) ...\n",
            "Setting up libxinerama-dev:amd64 (2:1.1.3-1) ...\n",
            "Setting up libxv-dev:amd64 (2:1.0.11-1) ...\n",
            "Setting up nasm (2.13.02-0.1) ...\n",
            "Setting up libcapnp-0.6.1:amd64 (0.6.1-1ubuntu1) ...\n",
            "Setting up libibus-1.0-5:amd64 (1.5.17-3ubuntu5.3) ...\n",
            "Setting up libmircore1:amd64 (0.31.1-0ubuntu1) ...\n",
            "Setting up freepats (20060219-1) ...\n",
            "Setting up libprotobuf-lite10:amd64 (3.0.0-9.1ubuntu1) ...\n",
            "Setting up libudev-dev:amd64 (237-3ubuntu10.52) ...\n",
            "Setting up libfluidsynth1:amd64 (1.1.9-1) ...\n",
            "Setting up x11proto-composite-dev (1:2018.4-4) ...\n",
            "Setting up autopoint (0.19.8.1-6ubuntu0.3) ...\n",
            "Setting up libaudio2:amd64 (1.9.4-6) ...\n",
            "Setting up libfile-stripnondeterminism-perl (0.040-1.1~build1) ...\n",
            "Setting up libgtk2.0-0:amd64 (2.24.32-1ubuntu1) ...\n",
            "Setting up gir1.2-ibus-1.0:amd64 (1.5.17-3ubuntu5.3) ...\n",
            "Setting up libgail18:amd64 (2.24.32-1ubuntu1) ...\n",
            "Setting up libxrandr-dev:amd64 (2:1.5.1-1) ...\n",
            "Setting up libcairo2-dev:amd64 (1.15.10-2ubuntu0.1) ...\n",
            "Setting up gettext (0.19.8.1-6ubuntu0.3) ...\n",
            "Setting up libxcomposite-dev:amd64 (1:0.4.4-2) ...\n",
            "Setting up libmirprotobuf3:amd64 (0.31.1-0ubuntu1) ...\n",
            "Setting up libprotobuf-dev:amd64 (3.0.0-9.1ubuntu1) ...\n",
            "Setting up libgail-common:amd64 (2.24.32-1ubuntu1) ...\n",
            "Setting up autoconf (2.69-11) ...\n",
            "Setting up libmircookie-dev:amd64 (0.31.1-0ubuntu1) ...\n",
            "Setting up libwildmidi2:amd64 (0.4.2-1) ...\n",
            "Setting up file (1:5.32-2ubuntu0.4) ...\n",
            "Setting up intltool-debian (0.35.0+20060710.4) ...\n",
            "Setting up libibus-1.0-dev:amd64 (1.5.17-3ubuntu5.3) ...\n",
            "Setting up automake (1:1.15.1-3ubuntu2) ...\n",
            "update-alternatives: using /usr/bin/automake-1.15 to provide /usr/bin/automake (automake) in auto mode\n",
            "Setting up libmircommon7:amd64 (0.31.1-0ubuntu1) ...\n",
            "Setting up libpango1.0-dev (1.40.14-1ubuntu0.1) ...\n",
            "Setting up libfluidsynth-dev:amd64 (1.1.9-1) ...\n",
            "Setting up timidity (2.13.2-41) ...\n",
            "Setting up gir1.2-gtk-2.0 (2.24.32-1ubuntu1) ...\n",
            "Setting up libgtk2.0-bin (2.24.32-1ubuntu1) ...\n",
            "Setting up libtool (2.4.6-2) ...\n",
            "Setting up po-debconf (1.0.20) ...\n",
            "Setting up libwildmidi-dev (0.4.2-1) ...\n",
            "Setting up libgtk2.0-dev (2.24.32-1ubuntu1) ...\n",
            "Setting up libmirclient9:amd64 (0.31.1-0ubuntu1) ...\n",
            "Setting up libmircommon-dev:amd64 (0.31.1-0ubuntu1) ...\n",
            "Setting up timidity-daemon (2.13.2-41) ...\n",
            "Adding group timidity....done\n",
            "Adding system user timidity....done\n",
            "Adding user `timidity' to group `audio' ...\n",
            "Adding user timidity to group audio\n",
            "Done.\n",
            "invoke-rc.d: could not determine current runlevel\n",
            "invoke-rc.d: policy-rc.d denied execution of stop.\n",
            "invoke-rc.d: could not determine current runlevel\n",
            "invoke-rc.d: policy-rc.d denied execution of start.\n",
            "Setting up libmirclient-dev:amd64 (0.31.1-0ubuntu1) ...\n",
            "Setting up libsdl2-dev:amd64 (2.0.8+dfsg1-1ubuntu1.18.04.4) ...\n",
            "Setting up debhelper (11.1.6ubuntu2) ...\n",
            "Setting up dh-autoreconf (17) ...\n",
            "Setting up dh-strip-nondeterminism (0.040-1.1~build1) ...\n",
            "Processing triggers for libc-bin (2.27-3ubuntu1.3) ...\n",
            "/sbin/ldconfig.real: /usr/local/lib/python3.7/dist-packages/ideep4py/lib/libmkldnn.so.0 is not a symbolic link\n",
            "\n",
            "Processing triggers for systemd (237-3ubuntu10.52) ...\n",
            "Processing triggers for man-db (2.8.3-2ubuntu0.1) ...\n",
            "Processing triggers for mime-support (3.60ubuntu1) ...\n",
            "Reading package lists... Done\n",
            "Building dependency tree       \n",
            "Reading state information... Done\n",
            "libboost-all-dev is already the newest version (1.65.1.0ubuntu1).\n",
            "0 upgraded, 0 newly installed, 0 to remove and 38 not upgraded.\n",
            "Reading package lists... Done\n",
            "Building dependency tree       \n",
            "Reading state information... Done\n",
            "Note, selecting 'liblua5.1-0-dev' instead of 'liblua5.1-dev'\n",
            "The following additional packages will be installed:\n",
            "  libtool-bin\n",
            "The following NEW packages will be installed:\n",
            "  liblua5.1-0-dev libtool-bin\n",
            "0 upgraded, 2 newly installed, 0 to remove and 38 not upgraded.\n",
            "Need to get 198 kB of archives.\n",
            "After this operation, 1,188 kB of additional disk space will be used.\n",
            "Get:1 http://archive.ubuntu.com/ubuntu bionic/universe amd64 liblua5.1-0-dev amd64 5.1.5-8.1build2 [119 kB]\n",
            "Get:2 http://archive.ubuntu.com/ubuntu bionic/main amd64 libtool-bin amd64 2.4.6-2 [79.5 kB]\n",
            "Fetched 198 kB in 1s (310 kB/s)\n",
            "Selecting previously unselected package liblua5.1-0-dev:amd64.\n",
            "(Reading database ... 158315 files and directories currently installed.)\n",
            "Preparing to unpack .../liblua5.1-0-dev_5.1.5-8.1build2_amd64.deb ...\n",
            "Unpacking liblua5.1-0-dev:amd64 (5.1.5-8.1build2) ...\n",
            "Selecting previously unselected package libtool-bin.\n",
            "Preparing to unpack .../libtool-bin_2.4.6-2_amd64.deb ...\n",
            "Unpacking libtool-bin (2.4.6-2) ...\n",
            "Setting up libtool-bin (2.4.6-2) ...\n",
            "Setting up liblua5.1-0-dev:amd64 (5.1.5-8.1build2) ...\n",
            "Processing triggers for man-db (2.8.3-2ubuntu0.1) ...\n",
            "Reading package lists... Done\n",
            "Building dependency tree       \n",
            "Reading state information... Done\n",
            "libgtk2.0-dev is already the newest version (2.24.32-1ubuntu1).\n",
            "python-numpy is already the newest version (1:1.13.3-2ubuntu1).\n",
            "python-numpy set to manually installed.\n",
            "libboost-all-dev is already the newest version (1.65.1.0ubuntu1).\n",
            "cmake is already the newest version (3.10.2-1ubuntu2.18.04.2).\n",
            "git is already the newest version (1:2.17.1-1ubuntu0.9).\n",
            "libsdl2-dev is already the newest version (2.0.8+dfsg1-1ubuntu1.18.04.4).\n",
            "0 upgraded, 0 newly installed, 0 to remove and 38 not upgraded.\n",
            "Cloning into 'vizdoomgym'...\n",
            "remote: Enumerating objects: 588, done.\u001b[K\n",
            "remote: Counting objects: 100% (3/3), done.\u001b[K\n",
            "remote: Compressing objects: 100% (3/3), done.\u001b[K\n",
            "remote: Total 588 (delta 0), reused 0 (delta 0), pack-reused 585\u001b[K\n",
            "Receiving objects: 100% (588/588), 184.91 KiB | 3.77 MiB/s, done.\n",
            "Resolving deltas: 100% (314/314), done.\n",
            "Obtaining file:///content/vizdoomgym\n",
            "Collecting vizdoom@ https://github.com/mwydmuch/ViZDoom/tarball/1.1.8pre\n",
            "  Downloading https://github.com/mwydmuch/ViZDoom/tarball/1.1.8pre\n",
            "\u001b[K     / 704 kB 3.1 MB/s"
          ]
        }
      ]
    },
    {
      "cell_type": "markdown",
      "metadata": {
        "id": "sYSYxa3A3rPm"
      },
      "source": [
        "### **IMPORTANT NOTE: After installing all dependencies, restart your runtime**"
      ]
    },
    {
      "cell_type": "markdown",
      "metadata": {
        "id": "yqwU0xvmps6f"
      },
      "source": [
        "## ------------------------- IMAGE PREPROCESSING (image_preprocessing.py) -------------------------"
      ]
    },
    {
      "cell_type": "markdown",
      "metadata": {
        "id": "HNxep0W2v5eR"
      },
      "source": [
        "### Importing the libraries"
      ]
    },
    {
      "cell_type": "code",
      "metadata": {
        "id": "Av98EDA6wAyb"
      },
      "source": [
        "import numpy as np\n",
        "from scipy.misc import imresize\n",
        "from gym.core import ObservationWrapper\n",
        "from gym.spaces.box import Box"
      ],
      "execution_count": null,
      "outputs": []
    },
    {
      "cell_type": "markdown",
      "metadata": {
        "id": "hYg83uMKwW9j"
      },
      "source": [
        "### Preprocessing the images"
      ]
    },
    {
      "cell_type": "code",
      "metadata": {
        "id": "mAKQuJpa3EEI"
      },
      "source": [
        "class PreprocessImage(ObservationWrapper):\n",
        "    \n",
        "    def __init__(self, env, height = 64, width = 64, grayscale = True, crop = lambda img: img):\n",
        "        super(PreprocessImage, self).__init__(env)\n",
        "        self.img_size = (height, width)\n",
        "        self.grayscale = grayscale\n",
        "        self.crop = crop\n",
        "        n_colors = 1 if self.grayscale else 3\n",
        "        self.observation_space = Box(0.0, 1.0, [n_colors, height, width])\n",
        "\n",
        "    def observation(self, img):\n",
        "        img = self.crop(img)\n",
        "        img = imresize(img, self.img_size)\n",
        "        if self.grayscale:\n",
        "            img = img.mean(-1, keepdims = True)\n",
        "        img = np.transpose(img, (2, 0, 1))\n",
        "        img = img.astype('float32') / 255.\n",
        "        return img"
      ],
      "execution_count": null,
      "outputs": []
    },
    {
      "cell_type": "markdown",
      "metadata": {
        "id": "nkb3sY94oxR0"
      },
      "source": [
        "## ------------------------- EXPERIENCE REPLAY (experience_replay.py) -------------------------"
      ]
    },
    {
      "cell_type": "markdown",
      "metadata": {
        "id": "m77JIgY5_3-i"
      },
      "source": [
        "### Importing the libraries"
      ]
    },
    {
      "cell_type": "code",
      "metadata": {
        "id": "SyftpA_J_69n"
      },
      "source": [
        "import numpy as np\n",
        "from collections import namedtuple, deque"
      ],
      "execution_count": null,
      "outputs": []
    },
    {
      "cell_type": "markdown",
      "metadata": {
        "id": "kMaHr_X-oiXJ"
      },
      "source": [
        "### Defining One Step"
      ]
    },
    {
      "cell_type": "code",
      "metadata": {
        "id": "xQZwk7xgomh_"
      },
      "source": [
        "Step = namedtuple('Step', ['state', 'action', 'reward', 'done'])"
      ],
      "execution_count": null,
      "outputs": []
    },
    {
      "cell_type": "markdown",
      "metadata": {
        "id": "VeA93OwL97Mn"
      },
      "source": [
        "### Making the AI progress on several (n_step) steps"
      ]
    },
    {
      "cell_type": "code",
      "metadata": {
        "id": "LQDLILP-x6h3"
      },
      "source": [
        "class NStepProgress:\n",
        "    \n",
        "    def __init__(self, env, ai, n_step):\n",
        "        self.ai = ai\n",
        "        self.rewards = []\n",
        "        self.env = env\n",
        "        self.n_step = n_step\n",
        "    \n",
        "    def __iter__(self):\n",
        "        state = self.env.reset()\n",
        "        history = deque()\n",
        "        reward = 0.0\n",
        "        while True:\n",
        "            action = self.ai(np.array([state]))[0][0]\n",
        "            next_state, r, is_done, _ = self.env.step(action)\n",
        "            reward += r\n",
        "            history.append(Step(state = state, action = action, reward = r, done = is_done))\n",
        "            while len(history) > self.n_step + 1:\n",
        "                history.popleft()\n",
        "            if len(history) == self.n_step + 1:\n",
        "                yield tuple(history)\n",
        "            state = next_state\n",
        "            if is_done:\n",
        "                if len(history) > self.n_step + 1:\n",
        "                    history.popleft()\n",
        "                while len(history) >= 1:\n",
        "                    yield tuple(history)\n",
        "                    history.popleft()\n",
        "                self.rewards.append(reward)\n",
        "                reward = 0.0\n",
        "                state = self.env.reset()\n",
        "                history.clear()\n",
        "    \n",
        "    def rewards_steps(self):\n",
        "        rewards_steps = self.rewards\n",
        "        self.rewards = []\n",
        "        return rewards_steps"
      ],
      "execution_count": null,
      "outputs": []
    },
    {
      "cell_type": "markdown",
      "metadata": {
        "id": "68rUlP2Y9-H-"
      },
      "source": [
        "### Implementing Experience Replay"
      ]
    },
    {
      "cell_type": "code",
      "metadata": {
        "id": "d2fvc_4Ltmkf"
      },
      "source": [
        "class ReplayMemory:\n",
        "    \n",
        "    def __init__(self, n_steps, capacity = 10000):\n",
        "        self.capacity = capacity\n",
        "        self.n_steps = n_steps\n",
        "        self.n_steps_iter = iter(n_steps)\n",
        "        self.buffer = deque()\n",
        "\n",
        "    def sample_batch(self, batch_size): # creates an iterator that returns random batches\n",
        "        ofs = 0\n",
        "        vals = list(self.buffer)\n",
        "        np.random.shuffle(vals)\n",
        "        while (ofs+1)*batch_size <= len(self.buffer):\n",
        "            yield vals[ofs*batch_size:(ofs+1)*batch_size]\n",
        "            ofs += 1\n",
        "\n",
        "    def run_steps(self, samples):\n",
        "        while samples > 0:\n",
        "            entry = next(self.n_steps_iter) # 10 consecutive steps\n",
        "            self.buffer.append(entry) # we put 200 for the current episode\n",
        "            samples -= 1\n",
        "        while len(self.buffer) > self.capacity: # we accumulate no more than the capacity (10000)\n",
        "            self.buffer.popleft()"
      ],
      "execution_count": null,
      "outputs": []
    },
    {
      "cell_type": "markdown",
      "metadata": {
        "id": "FPwjy3NWsnYa"
      },
      "source": [
        "## ------------------------- AI FOR DOOM (ai.py) -------------------------"
      ]
    },
    {
      "cell_type": "markdown",
      "metadata": {
        "id": "u5zFNqHemeCK"
      },
      "source": [
        "### Importing the libraries"
      ]
    },
    {
      "cell_type": "code",
      "metadata": {
        "id": "ub4nIzcgy7mh"
      },
      "source": [
        "import numpy as np\n",
        "import torch\n",
        "import torch.nn as nn\n",
        "import torch.nn.functional as F\n",
        "import torch.optim as optim\n",
        "from torch.autograd import Variable"
      ],
      "execution_count": null,
      "outputs": []
    },
    {
      "cell_type": "markdown",
      "metadata": {
        "id": "6yhJRW-3iYMX"
      },
      "source": [
        "### Importing the packages for OpenAI and Doom"
      ]
    },
    {
      "cell_type": "code",
      "metadata": {
        "id": "FnsThiOsiYSD"
      },
      "source": [
        "import gym\n",
        "import vizdoomgym\n",
        "from gym import wrappers"
      ],
      "execution_count": null,
      "outputs": []
    },
    {
      "cell_type": "markdown",
      "metadata": {
        "id": "zmojGP0H-BzI"
      },
      "source": [
        "## Part 1 - Building the AI"
      ]
    },
    {
      "cell_type": "markdown",
      "metadata": {
        "id": "i-ukjFhR-Gpv"
      },
      "source": [
        "### Making the Brain"
      ]
    },
    {
      "cell_type": "code",
      "metadata": {
        "id": "iNCe7smpy9-x"
      },
      "source": [
        "class CNN(nn.Module):\n",
        "    \n",
        "    def __init__(self, number_actions):\n",
        "        super(CNN, self).__init__()\n",
        "        self.convolution1 = nn.Conv2d(in_channels = 1, out_channels = 32, kernel_size = 5)\n",
        "        self.convolution2 = nn.Conv2d(in_channels = 32, out_channels = 32, kernel_size = 3)\n",
        "        self.convolution3 = nn.Conv2d(in_channels = 32, out_channels = 64, kernel_size = 2)\n",
        "        self.fc1 = nn.Linear(in_features = self.count_neurons((1, 256, 256)), out_features = 40)\n",
        "        self.fc2 = nn.Linear(in_features = 40, out_features = number_actions)\n",
        "\n",
        "    def count_neurons(self, image_dim):\n",
        "        x = Variable(torch.rand(1, *image_dim))\n",
        "        x = F.relu(F.max_pool2d(self.convolution1(x), 3, 2))\n",
        "        x = F.relu(F.max_pool2d(self.convolution2(x), 3, 2))\n",
        "        x = F.relu(F.max_pool2d(self.convolution3(x), 3, 2))\n",
        "        return x.data.view(1, -1).size(1)\n",
        "\n",
        "    def forward(self, x):\n",
        "        x = F.relu(F.max_pool2d(self.convolution1(x), 3, 2))\n",
        "        x = F.relu(F.max_pool2d(self.convolution2(x), 3, 2))\n",
        "        x = F.relu(F.max_pool2d(self.convolution3(x), 3, 2))\n",
        "        x = x.view(x.size(0), -1)\n",
        "        x = F.relu(self.fc1(x))\n",
        "        x = self.fc2(x)\n",
        "        return x"
      ],
      "execution_count": null,
      "outputs": []
    },
    {
      "cell_type": "markdown",
      "metadata": {
        "id": "3Tcc4Rma-IlR"
      },
      "source": [
        "### Making the Body"
      ]
    },
    {
      "cell_type": "code",
      "metadata": {
        "id": "RnuK2xfRz4zf"
      },
      "source": [
        "class SoftmaxBody(nn.Module):\n",
        "    \n",
        "    def __init__(self, T):\n",
        "        super(SoftmaxBody, self).__init__()\n",
        "        self.T = T\n",
        "\n",
        "    def forward(self, outputs, number_actions=1):\n",
        "        probs = F.softmax(outputs * self.T)  \n",
        "        actions = probs.multinomial(num_samples=number_actions)\n",
        "        return actions"
      ],
      "execution_count": null,
      "outputs": []
    },
    {
      "cell_type": "markdown",
      "metadata": {
        "id": "Rw-X1XWt-Ky1"
      },
      "source": [
        "### Making the AI"
      ]
    },
    {
      "cell_type": "code",
      "metadata": {
        "id": "JfnhPGSAz48B"
      },
      "source": [
        "class AI:\n",
        "\n",
        "    def __init__(self, brain, body):\n",
        "        self.brain = brain\n",
        "        self.body = body\n",
        "\n",
        "    def __call__(self, inputs):\n",
        "        input = Variable(torch.from_numpy(np.array(inputs, dtype = np.float32)))\n",
        "        output = self.brain(input)\n",
        "        actions = self.body(output)\n",
        "        return actions.data.numpy()"
      ],
      "execution_count": null,
      "outputs": []
    },
    {
      "cell_type": "markdown",
      "metadata": {
        "id": "MYd3od1emzwo"
      },
      "source": [
        "## Part 2 - Training the AI with Deep Convolutional Q-Learning"
      ]
    },
    {
      "cell_type": "markdown",
      "metadata": {
        "id": "eql5YrXU-NX-"
      },
      "source": [
        "### Getting the Doom environment"
      ]
    },
    {
      "cell_type": "code",
      "metadata": {
        "id": "JqfmQqbE2MFG"
      },
      "source": [
        "doom_env = PreprocessImage(gym.make('VizdoomCorridor-v0'), width = 256, height = 256, grayscale = True)\n",
        "doom_env = wrappers.Monitor(doom_env, \"videos\", force = True)\n",
        "number_actions = doom_env.action_space.n"
      ],
      "execution_count": null,
      "outputs": []
    },
    {
      "cell_type": "markdown",
      "metadata": {
        "id": "13klJXK1nRwC"
      },
      "source": [
        "### Building an AI"
      ]
    },
    {
      "cell_type": "code",
      "metadata": {
        "id": "6OX44kYzwCxU"
      },
      "source": [
        "cnn = CNN(number_actions)\n",
        "softmax_body = SoftmaxBody(T = 1.0)\n",
        "ai = AI(brain = cnn, body = softmax_body)"
      ],
      "execution_count": null,
      "outputs": []
    },
    {
      "cell_type": "markdown",
      "metadata": {
        "id": "ZOtPlK1YnZUp"
      },
      "source": [
        "### Setting up Experience Replay"
      ]
    },
    {
      "cell_type": "code",
      "metadata": {
        "id": "kyDvfKLxnZaG"
      },
      "source": [
        "n_steps = NStepProgress(env = doom_env, ai = ai, n_step = 10)\n",
        "memory = ReplayMemory(n_steps = n_steps, capacity = 10000)"
      ],
      "execution_count": null,
      "outputs": []
    },
    {
      "cell_type": "markdown",
      "metadata": {
        "id": "6kydH6Nengnu"
      },
      "source": [
        "### Implementing Eligibility Trace"
      ]
    },
    {
      "cell_type": "code",
      "metadata": {
        "id": "4hMk8IUBwIMi"
      },
      "source": [
        "def eligibility_trace(batch):\n",
        "    gamma = 0.99\n",
        "    inputs = []\n",
        "    targets = []\n",
        "    for series in batch:\n",
        "        input = Variable(torch.from_numpy(np.array([series[0].state, series[-1].state], dtype = np.float32)))\n",
        "        output = cnn(input)\n",
        "        cumul_reward = 0.0 if series[-1].done else output[1].data.max()\n",
        "        for step in reversed(series[:-1]):\n",
        "            cumul_reward = step.reward + gamma * cumul_reward\n",
        "        state = series[0].state\n",
        "        target = output[0].data\n",
        "        target[series[0].action] = cumul_reward\n",
        "        inputs.append(state)\n",
        "        targets.append(target)\n",
        "    return torch.from_numpy(np.array(inputs, dtype = np.float32)), torch.stack(targets)"
      ],
      "execution_count": null,
      "outputs": []
    },
    {
      "cell_type": "markdown",
      "metadata": {
        "id": "LtpYvtmfnugD"
      },
      "source": [
        "### Making the moving average on 100 steps"
      ]
    },
    {
      "cell_type": "code",
      "metadata": {
        "id": "3R_P7WqswRB0"
      },
      "source": [
        "class MA:\n",
        "    def __init__(self, size):\n",
        "        self.list_of_rewards = []\n",
        "        self.size = size\n",
        "    def add(self, rewards):\n",
        "        if isinstance(rewards, list):\n",
        "            self.list_of_rewards += rewards\n",
        "        else:\n",
        "            self.list_of_rewards.append(rewards)\n",
        "        while len(self.list_of_rewards) > self.size:\n",
        "            del self.list_of_rewards[0]\n",
        "    def average(self):\n",
        "        return np.mean(self.list_of_rewards)\n",
        "ma = MA(100)"
      ],
      "execution_count": null,
      "outputs": []
    },
    {
      "cell_type": "markdown",
      "metadata": {
        "id": "ilnk4zdR-T73"
      },
      "source": [
        "### Training the AI"
      ]
    },
    {
      "cell_type": "code",
      "metadata": {
        "id": "SXtPVCUGwSfY"
      },
      "source": [
        "loss = nn.MSELoss()\n",
        "optimizer = optim.Adam(cnn.parameters(), lr = 0.001)\n",
        "nb_epochs = 20\n",
        "for epoch in range(1, nb_epochs + 1):\n",
        "    memory.run_steps(samples=200)\n",
        "    for batch in memory.sample_batch(128):\n",
        "        inputs, targets = eligibility_trace(batch)\n",
        "        inputs, targets = Variable(inputs), Variable(targets)\n",
        "        predictions = cnn(inputs)\n",
        "        loss_error = loss(predictions, targets)\n",
        "        optimizer.zero_grad()\n",
        "        loss_error.backward()\n",
        "        optimizer.step()\n",
        "    rewards_steps = n_steps.rewards_steps()\n",
        "    ma.add(rewards_steps)\n",
        "    avg_reward = ma.average()\n",
        "    print(\"Epoch: %s, Average Reward: %s\" % (str(epoch), str(avg_reward)))"
      ],
      "execution_count": null,
      "outputs": []
    },
    {
      "cell_type": "markdown",
      "metadata": {
        "id": "Le1t1oG5-WCW"
      },
      "source": [
        "## ----- EXTRA CODE ONLY SPECIFIC TO THIS COLAB NOTEBOOK - VISUALIZING THE AI IN ACTION -----"
      ]
    },
    {
      "cell_type": "markdown",
      "metadata": {
        "id": "4AT2264rZHvd"
      },
      "source": [
        "### Importing the libraries"
      ]
    },
    {
      "cell_type": "code",
      "metadata": {
        "id": "6eCUhUyIZGmY"
      },
      "source": [
        "import os\n",
        "import cv2\n",
        "import glob\n",
        "import gym\n",
        "import vizdoomgym\n",
        "import matplotlib.pyplot as plt\n",
        "from collections import Counter\n",
        "from gym.wrappers import Monitor"
      ],
      "execution_count": null,
      "outputs": []
    },
    {
      "cell_type": "markdown",
      "metadata": {
        "id": "kiFw9mX8ZUIy"
      },
      "source": [
        "### Printing the input shape and number of possible actions"
      ]
    },
    {
      "cell_type": "code",
      "metadata": {
        "id": "dvyGlfUUZcFV"
      },
      "source": [
        "env = gym.make('VizdoomCorridor-v0')\n",
        "action_num = env.action_space.n\n",
        "print(\"Number of possible actions: \", action_num)\n",
        "state = env.reset()\n",
        "state, reward, done, info = env.step(env.action_space.sample())\n",
        "print(state.shape)\n",
        "env.close()"
      ],
      "execution_count": null,
      "outputs": []
    },
    {
      "cell_type": "markdown",
      "metadata": {
        "id": "w7JgjufrZy6S"
      },
      "source": [
        "### Displaying a frame of the environment just to see how it is like"
      ]
    },
    {
      "cell_type": "code",
      "metadata": {
        "id": "vOqMJj76ZxpO"
      },
      "source": [
        "observation = env.reset()\n",
        "plt.imshow(observation)\n",
        "plt.show()\n",
        "print(observation.shape)"
      ],
      "execution_count": null,
      "outputs": []
    },
    {
      "cell_type": "markdown",
      "metadata": {
        "id": "5cdZuHmZ-ZrC"
      },
      "source": [
        "### Making a helper function for the visualization"
      ]
    },
    {
      "cell_type": "code",
      "metadata": {
        "id": "zlOoqIqywW3I"
      },
      "source": [
        "def wrap_env(env):\n",
        "  env = Monitor(env, './vid',video_callable=lambda episode_id:True, force=True)\n",
        "  return env"
      ],
      "execution_count": null,
      "outputs": []
    },
    {
      "cell_type": "markdown",
      "metadata": {
        "id": "pvu5TKfH-c6-"
      },
      "source": [
        "### Running the AI on one episode"
      ]
    },
    {
      "cell_type": "code",
      "metadata": {
        "id": "DEj72bI05NeH"
      },
      "source": [
        "gym_env = PreprocessImage(gym.make('VizdoomCorridor-v0'), width = 256, height = 256, grayscale = True)\n",
        "gym_env = wrappers.Monitor(gym_env, \"videos\", force = True)\n",
        "environment = wrap_env(gym_env)\n",
        "done = False\n",
        "observation = environment.reset()\n",
        "new_observation = observation\n",
        "actions_counter = Counter()\n",
        "prev_input = None\n",
        "img_array=[]\n",
        "while True:\n",
        "    # Feeding the game screen and getting the Q values for each action\n",
        "    actions = cnn(Variable(Variable(torch.from_numpy(observation.reshape(1, 1, 256, 256)))))\n",
        "    # Getting the action\n",
        "    action = np.argmax(actions.detach().numpy(), axis=-1)\n",
        "    actions_counter[str(action)] += 1 \n",
        "    # Selecting the action using epsilon greedy policy\n",
        "    environment.render()\n",
        "    observation = new_observation        \n",
        "    # Now performing the action and moving to the next state, next_obs, receive reward\n",
        "    new_observation, reward, done, _ = environment.step(action)\n",
        "    img_array.append(new_observation)\n",
        "    if done: \n",
        "        # observation = env.reset()\n",
        "        break\n",
        "environment.close()"
      ],
      "execution_count": null,
      "outputs": []
    },
    {
      "cell_type": "markdown",
      "metadata": {
        "id": "p75VoM6Inlo7"
      },
      "source": [
        "### Outputting the video of the gameplay"
      ]
    },
    {
      "cell_type": "code",
      "metadata": {
        "id": "hHj2NJl4nqSj"
      },
      "source": [
        "folder_name = \"gameplay_frames\"\n",
        "video_name = \"agent_gameplay.avi\"\n",
        "\n",
        "if not os.path.exists(folder_name):\n",
        "    os.makedirs(folder_name)\n",
        "\n",
        "for i in range(len(img_array)):\n",
        "    plt.imsave(\"{}/{}_frame.jpg\".format(folder_name, i), img_array[i].reshape(256, 256))\n",
        "\n",
        "files = glob.glob(os.path.expanduser(\"{}/*\".format(folder_name)))\n",
        "frames_array = []\n",
        "\n",
        "for filename in sorted(files, key=lambda t: os.stat(t).st_mtime):\n",
        "    img = cv2.imread(filename)\n",
        "    height, width, layers = img.shape\n",
        "    size = (width,height)\n",
        "    frames_array.append(img)\n",
        "\n",
        "out = cv2.VideoWriter(video_name, cv2.VideoWriter_fourcc(*'DIVX'), 15, size)\n",
        "\n",
        "for i in range(len(frames_array)):\n",
        "    out.write(frames_array[i])\n",
        "\n",
        "out.release()"
      ],
      "execution_count": null,
      "outputs": []
    }
  ]
}